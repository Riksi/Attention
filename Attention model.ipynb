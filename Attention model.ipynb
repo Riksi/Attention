{
 "cells": [
  {
   "cell_type": "code",
   "execution_count": 862,
   "metadata": {
    "collapsed": true
   },
   "outputs": [],
   "source": [
    "import tensorflow as tf\n",
    "import numpy as np\n",
    "import matplotlib.pyplot as plt"
   ]
  },
  {
   "cell_type": "code",
   "execution_count": 863,
   "metadata": {
    "collapsed": true
   },
   "outputs": [],
   "source": [
    "tf.reset_default_graph()"
   ]
  },
  {
   "cell_type": "code",
   "execution_count": 864,
   "metadata": {
    "collapsed": false
   },
   "outputs": [
    {
     "name": "stdout",
     "output_type": "stream",
     "text": [
      "[array([57, 45,  5, 68, 33, 68, 18, 95, 45]), array([15, 10, 70, 20, 46, 24]), array([61, 33, 36, 17, 43, 31, 64]), array([25, 59, 18, 61, 57, 72, 80, 84, 48, 17]), array([55, 32, 85,  4, 86]), array([56, 91,  4, 64, 81, 78, 70, 93]), array([57,  2, 94, 63, 59, 77, 42, 15]), array([ 6,  3, 23, 55, 93, 53, 42, 27,  9, 30]), array([48, 70, 24, 42, 14]), array([80, 43, 48,  4, 83, 95]), array([25, 80, 92, 40, 17]), array([20, 53, 55, 24,  4]), array([38, 14, 15, 67, 73, 86, 29,  7,  8]), array([96, 78, 15, 59, 46, 75, 88]), array([23, 59, 35, 22, 35,  9]), array([33, 10, 89, 64, 10, 64, 27, 38]), array([84, 54, 63, 96, 75]), array([50, 27, 15, 21, 67,  5, 14, 18,  3]), array([ 85,   2,  85,  87,  55,  38, 100,  48,  97]), array([42, 37, 14, 30, 61, 21, 12, 65]), array([58, 39, 11, 98, 86, 19, 90, 47, 45, 28]), array([71, 22, 26, 42, 85]), array([23, 86,  6,  7, 55,  4, 77]), array([30, 93, 89, 36, 83, 22, 69]), array([78, 77, 20,  5, 53, 78, 42, 50])]\n",
      "[array([58, 38, 33, 97, 83, 24, 76]), array([76, 26, 27, 60, 19, 38]), array([13, 99, 95, 38, 42,  4, 87,  6, 89]), array([99, 66, 25, 99, 42]), array([44, 94,  4, 73,  4, 76, 44,  5, 44]), array([ 6, 43, 72, 94, 99, 53, 27, 55, 63]), array([ 6, 69, 17, 22, 52]), array([49,  9, 40, 88, 94, 36, 26]), array([ 72,  52,  84,  24, 100,  59,  81,  71,  57,  78]), array([25, 32, 72, 52, 72]), array([ 89,  74, 100,  65,  54,  82,  40,  30,  27]), array([69, 79, 32, 70, 73, 13]), array([98, 76, 90, 39, 39, 20,  9, 76]), array([86,  9, 12, 32, 23, 50]), array([47, 70, 56, 10, 73, 98, 11, 49]), array([59, 80, 17,  4, 95, 86, 47, 56, 76, 35]), array([48, 31, 81, 19, 54, 59, 27, 73, 87, 78]), array([29, 67, 32, 97, 93, 11, 38]), array([36, 19, 16, 82, 85, 19, 80, 14]), array([30, 44, 15, 92, 69, 65,  6, 86]), array([41, 66, 91, 15, 24, 78, 34, 10]), array([15,  3, 48, 29,  9]), array([86,  4, 11, 36, 41, 39, 24, 30]), array([11, 13, 59, 20, 10]), array([69, 18,  4, 95, 51, 25])]\n"
     ]
    }
   ],
   "source": [
    "source_inputs = [np.random.randint(2,101,n) for n in  np.random.randint(5,11,25)]\n",
    "target_inputs = [np.random.randint(2,101,n) for n in  np.random.randint(5,11,25)]\n",
    "\n",
    "print(source_inputs)\n",
    "print(target_inputs)"
   ]
  },
  {
   "cell_type": "code",
   "execution_count": 865,
   "metadata": {
    "collapsed": false
   },
   "outputs": [
    {
     "name": "stdout",
     "output_type": "stream",
     "text": [
      "[8, 6, 9, 5, 5, 9, 7, 7, 6, 10] [10, 6, 9, 6, 9, 7, 7, 6, 8, 9]\n"
     ]
    }
   ],
   "source": [
    "source_lens = list(map(len,source_inputs))\n",
    "target_lens = list(map(len,target_inputs))\n",
    "\n",
    "print(input_lens, output_lens)"
   ]
  },
  {
   "cell_type": "code",
   "execution_count": 866,
   "metadata": {
    "collapsed": true
   },
   "outputs": [],
   "source": [
    "padded_inputs = np.array([np.concatenate((i,\n",
    "            [0 for j in range(10-len(i))])) for i in source_inputs])"
   ]
  },
  {
   "cell_type": "code",
   "execution_count": 867,
   "metadata": {
    "collapsed": false
   },
   "outputs": [
    {
     "data": {
      "text/plain": [
       "array([[  57.,   45.,    5.,   68.,   33.,   68.,   18.,   95.,   45.,\n",
       "           0.],\n",
       "       [  15.,   10.,   70.,   20.,   46.,   24.,    0.,    0.,    0.,\n",
       "           0.],\n",
       "       [  61.,   33.,   36.,   17.,   43.,   31.,   64.,    0.,    0.,\n",
       "           0.],\n",
       "       [  25.,   59.,   18.,   61.,   57.,   72.,   80.,   84.,   48.,\n",
       "          17.],\n",
       "       [  55.,   32.,   85.,    4.,   86.,    0.,    0.,    0.,    0.,\n",
       "           0.],\n",
       "       [  56.,   91.,    4.,   64.,   81.,   78.,   70.,   93.,    0.,\n",
       "           0.],\n",
       "       [  57.,    2.,   94.,   63.,   59.,   77.,   42.,   15.,    0.,\n",
       "           0.],\n",
       "       [   6.,    3.,   23.,   55.,   93.,   53.,   42.,   27.,    9.,\n",
       "          30.],\n",
       "       [  48.,   70.,   24.,   42.,   14.,    0.,    0.,    0.,    0.,\n",
       "           0.],\n",
       "       [  80.,   43.,   48.,    4.,   83.,   95.,    0.,    0.,    0.,\n",
       "           0.],\n",
       "       [  25.,   80.,   92.,   40.,   17.,    0.,    0.,    0.,    0.,\n",
       "           0.],\n",
       "       [  20.,   53.,   55.,   24.,    4.,    0.,    0.,    0.,    0.,\n",
       "           0.],\n",
       "       [  38.,   14.,   15.,   67.,   73.,   86.,   29.,    7.,    8.,\n",
       "           0.],\n",
       "       [  96.,   78.,   15.,   59.,   46.,   75.,   88.,    0.,    0.,\n",
       "           0.],\n",
       "       [  23.,   59.,   35.,   22.,   35.,    9.,    0.,    0.,    0.,\n",
       "           0.],\n",
       "       [  33.,   10.,   89.,   64.,   10.,   64.,   27.,   38.,    0.,\n",
       "           0.],\n",
       "       [  84.,   54.,   63.,   96.,   75.,    0.,    0.,    0.,    0.,\n",
       "           0.],\n",
       "       [  50.,   27.,   15.,   21.,   67.,    5.,   14.,   18.,    3.,\n",
       "           0.],\n",
       "       [  85.,    2.,   85.,   87.,   55.,   38.,  100.,   48.,   97.,\n",
       "           0.],\n",
       "       [  42.,   37.,   14.,   30.,   61.,   21.,   12.,   65.,    0.,\n",
       "           0.],\n",
       "       [  58.,   39.,   11.,   98.,   86.,   19.,   90.,   47.,   45.,\n",
       "          28.],\n",
       "       [  71.,   22.,   26.,   42.,   85.,    0.,    0.,    0.,    0.,\n",
       "           0.],\n",
       "       [  23.,   86.,    6.,    7.,   55.,    4.,   77.,    0.,    0.,\n",
       "           0.],\n",
       "       [  30.,   93.,   89.,   36.,   83.,   22.,   69.,    0.,    0.,\n",
       "           0.],\n",
       "       [  78.,   77.,   20.,    5.,   53.,   78.,   42.,   50.,    0.,\n",
       "           0.]])"
      ]
     },
     "execution_count": 867,
     "metadata": {},
     "output_type": "execute_result"
    }
   ],
   "source": [
    "padded_inputs"
   ]
  },
  {
   "cell_type": "code",
   "execution_count": 868,
   "metadata": {
    "collapsed": false
   },
   "outputs": [
    {
     "data": {
      "text/plain": [
       "array([[ 1.,  1.,  1.,  1.,  1.,  1.,  1.,  1.,  1.,  0.],\n",
       "       [ 1.,  1.,  1.,  1.,  1.,  1.,  0.,  0.,  0.,  0.],\n",
       "       [ 1.,  1.,  1.,  1.,  1.,  1.,  1.,  0.,  0.,  0.],\n",
       "       [ 1.,  1.,  1.,  1.,  1.,  1.,  1.,  1.,  1.,  1.],\n",
       "       [ 1.,  1.,  1.,  1.,  1.,  0.,  0.,  0.,  0.,  0.],\n",
       "       [ 1.,  1.,  1.,  1.,  1.,  1.,  1.,  1.,  0.,  0.],\n",
       "       [ 1.,  1.,  1.,  1.,  1.,  1.,  1.,  1.,  0.,  0.],\n",
       "       [ 1.,  1.,  1.,  1.,  1.,  1.,  1.,  1.,  1.,  1.],\n",
       "       [ 1.,  1.,  1.,  1.,  1.,  0.,  0.,  0.,  0.,  0.],\n",
       "       [ 1.,  1.,  1.,  1.,  1.,  1.,  0.,  0.,  0.,  0.],\n",
       "       [ 1.,  1.,  1.,  1.,  1.,  0.,  0.,  0.,  0.,  0.],\n",
       "       [ 1.,  1.,  1.,  1.,  1.,  0.,  0.,  0.,  0.,  0.],\n",
       "       [ 1.,  1.,  1.,  1.,  1.,  1.,  1.,  1.,  1.,  0.],\n",
       "       [ 1.,  1.,  1.,  1.,  1.,  1.,  1.,  0.,  0.,  0.],\n",
       "       [ 1.,  1.,  1.,  1.,  1.,  1.,  0.,  0.,  0.,  0.],\n",
       "       [ 1.,  1.,  1.,  1.,  1.,  1.,  1.,  1.,  0.,  0.],\n",
       "       [ 1.,  1.,  1.,  1.,  1.,  0.,  0.,  0.,  0.,  0.],\n",
       "       [ 1.,  1.,  1.,  1.,  1.,  1.,  1.,  1.,  1.,  0.],\n",
       "       [ 1.,  1.,  1.,  1.,  1.,  1.,  1.,  1.,  1.,  0.],\n",
       "       [ 1.,  1.,  1.,  1.,  1.,  1.,  1.,  1.,  0.,  0.],\n",
       "       [ 1.,  1.,  1.,  1.,  1.,  1.,  1.,  1.,  1.,  1.],\n",
       "       [ 1.,  1.,  1.,  1.,  1.,  0.,  0.,  0.,  0.,  0.],\n",
       "       [ 1.,  1.,  1.,  1.,  1.,  1.,  1.,  0.,  0.,  0.],\n",
       "       [ 1.,  1.,  1.,  1.,  1.,  1.,  1.,  0.,  0.,  0.],\n",
       "       [ 1.,  1.,  1.,  1.,  1.,  1.,  1.,  1.,  0.,  0.]])"
      ]
     },
     "execution_count": 868,
     "metadata": {},
     "output_type": "execute_result"
    }
   ],
   "source": [
    "source_mask_array = 1.0*(padded_inputs>0)\n",
    "source_mask_array"
   ]
  },
  {
   "cell_type": "code",
   "execution_count": 869,
   "metadata": {
    "collapsed": false
   },
   "outputs": [
    {
     "data": {
      "text/plain": [
       "array([[  58.,   38.,   33.,   97.,   83.,   24.,   76.,    0.,    0.,\n",
       "           0.],\n",
       "       [  76.,   26.,   27.,   60.,   19.,   38.,    0.,    0.,    0.,\n",
       "           0.],\n",
       "       [  13.,   99.,   95.,   38.,   42.,    4.,   87.,    6.,   89.,\n",
       "           0.],\n",
       "       [  99.,   66.,   25.,   99.,   42.,    0.,    0.,    0.,    0.,\n",
       "           0.],\n",
       "       [  44.,   94.,    4.,   73.,    4.,   76.,   44.,    5.,   44.,\n",
       "           0.],\n",
       "       [   6.,   43.,   72.,   94.,   99.,   53.,   27.,   55.,   63.,\n",
       "           0.],\n",
       "       [   6.,   69.,   17.,   22.,   52.,    0.,    0.,    0.,    0.,\n",
       "           0.],\n",
       "       [  49.,    9.,   40.,   88.,   94.,   36.,   26.,    0.,    0.,\n",
       "           0.],\n",
       "       [  72.,   52.,   84.,   24.,  100.,   59.,   81.,   71.,   57.,\n",
       "          78.],\n",
       "       [  25.,   32.,   72.,   52.,   72.,    0.,    0.,    0.,    0.,\n",
       "           0.],\n",
       "       [  89.,   74.,  100.,   65.,   54.,   82.,   40.,   30.,   27.,\n",
       "           0.],\n",
       "       [  69.,   79.,   32.,   70.,   73.,   13.,    0.,    0.,    0.,\n",
       "           0.],\n",
       "       [  98.,   76.,   90.,   39.,   39.,   20.,    9.,   76.,    0.,\n",
       "           0.],\n",
       "       [  86.,    9.,   12.,   32.,   23.,   50.,    0.,    0.,    0.,\n",
       "           0.],\n",
       "       [  47.,   70.,   56.,   10.,   73.,   98.,   11.,   49.,    0.,\n",
       "           0.],\n",
       "       [  59.,   80.,   17.,    4.,   95.,   86.,   47.,   56.,   76.,\n",
       "          35.],\n",
       "       [  48.,   31.,   81.,   19.,   54.,   59.,   27.,   73.,   87.,\n",
       "          78.],\n",
       "       [  29.,   67.,   32.,   97.,   93.,   11.,   38.,    0.,    0.,\n",
       "           0.],\n",
       "       [  36.,   19.,   16.,   82.,   85.,   19.,   80.,   14.,    0.,\n",
       "           0.],\n",
       "       [  30.,   44.,   15.,   92.,   69.,   65.,    6.,   86.,    0.,\n",
       "           0.],\n",
       "       [  41.,   66.,   91.,   15.,   24.,   78.,   34.,   10.,    0.,\n",
       "           0.],\n",
       "       [  15.,    3.,   48.,   29.,    9.,    0.,    0.,    0.,    0.,\n",
       "           0.],\n",
       "       [  86.,    4.,   11.,   36.,   41.,   39.,   24.,   30.,    0.,\n",
       "           0.],\n",
       "       [  11.,   13.,   59.,   20.,   10.,    0.,    0.,    0.,    0.,\n",
       "           0.],\n",
       "       [  69.,   18.,    4.,   95.,   51.,   25.,    0.,    0.,    0.,\n",
       "           0.]])"
      ]
     },
     "execution_count": 869,
     "metadata": {},
     "output_type": "execute_result"
    }
   ],
   "source": [
    "padded_outputs = np.array([np.concatenate((i,\n",
    "            [0 for j in range(10-len(i))])) for i in target_inputs])\n",
    "padded_outputs"
   ]
  },
  {
   "cell_type": "code",
   "execution_count": 870,
   "metadata": {
    "collapsed": false
   },
   "outputs": [
    {
     "data": {
      "text/plain": [
       "array([[ 1.,  1.,  1.,  1.,  1.,  1.,  1.,  0.,  0.,  0.],\n",
       "       [ 1.,  1.,  1.,  1.,  1.,  1.,  0.,  0.,  0.,  0.],\n",
       "       [ 1.,  1.,  1.,  1.,  1.,  1.,  1.,  1.,  1.,  0.],\n",
       "       [ 1.,  1.,  1.,  1.,  1.,  0.,  0.,  0.,  0.,  0.],\n",
       "       [ 1.,  1.,  1.,  1.,  1.,  1.,  1.,  1.,  1.,  0.],\n",
       "       [ 1.,  1.,  1.,  1.,  1.,  1.,  1.,  1.,  1.,  0.],\n",
       "       [ 1.,  1.,  1.,  1.,  1.,  0.,  0.,  0.,  0.,  0.],\n",
       "       [ 1.,  1.,  1.,  1.,  1.,  1.,  1.,  0.,  0.,  0.],\n",
       "       [ 1.,  1.,  1.,  1.,  1.,  1.,  1.,  1.,  1.,  1.],\n",
       "       [ 1.,  1.,  1.,  1.,  1.,  0.,  0.,  0.,  0.,  0.],\n",
       "       [ 1.,  1.,  1.,  1.,  1.,  1.,  1.,  1.,  1.,  0.],\n",
       "       [ 1.,  1.,  1.,  1.,  1.,  1.,  0.,  0.,  0.,  0.],\n",
       "       [ 1.,  1.,  1.,  1.,  1.,  1.,  1.,  1.,  0.,  0.],\n",
       "       [ 1.,  1.,  1.,  1.,  1.,  1.,  0.,  0.,  0.,  0.],\n",
       "       [ 1.,  1.,  1.,  1.,  1.,  1.,  1.,  1.,  0.,  0.],\n",
       "       [ 1.,  1.,  1.,  1.,  1.,  1.,  1.,  1.,  1.,  1.],\n",
       "       [ 1.,  1.,  1.,  1.,  1.,  1.,  1.,  1.,  1.,  1.],\n",
       "       [ 1.,  1.,  1.,  1.,  1.,  1.,  1.,  0.,  0.,  0.],\n",
       "       [ 1.,  1.,  1.,  1.,  1.,  1.,  1.,  1.,  0.,  0.],\n",
       "       [ 1.,  1.,  1.,  1.,  1.,  1.,  1.,  1.,  0.,  0.],\n",
       "       [ 1.,  1.,  1.,  1.,  1.,  1.,  1.,  1.,  0.,  0.],\n",
       "       [ 1.,  1.,  1.,  1.,  1.,  0.,  0.,  0.,  0.,  0.],\n",
       "       [ 1.,  1.,  1.,  1.,  1.,  1.,  1.,  1.,  0.,  0.],\n",
       "       [ 1.,  1.,  1.,  1.,  1.,  0.,  0.,  0.,  0.,  0.],\n",
       "       [ 1.,  1.,  1.,  1.,  1.,  1.,  0.,  0.,  0.,  0.]])"
      ]
     },
     "execution_count": 870,
     "metadata": {},
     "output_type": "execute_result"
    }
   ],
   "source": [
    "target_mask_array = 1.0*(padded_outputs>0)\n",
    "target_mask_array"
   ]
  },
  {
   "cell_type": "code",
   "execution_count": 871,
   "metadata": {
    "collapsed": false
   },
   "outputs": [],
   "source": [
    "batch_size = 3\n",
    "source_vocab_size = 100\n",
    "target_vocab_size = 100\n",
    "embed_size = 20\n",
    "hidden_size = 25\n",
    "align_size = 15"
   ]
  },
  {
   "cell_type": "code",
   "execution_count": 872,
   "metadata": {
    "collapsed": false
   },
   "outputs": [],
   "source": [
    "source_ids = tf.placeholder(dtype=tf.int32,shape=[None,None])\n",
    "source_seq_lens = tf.placeholder(dtype=tf.int32,shape=[None])\n",
    "source_mask = tf.placeholder(dtype=tf.float32,shape=[None,None])"
   ]
  },
  {
   "cell_type": "code",
   "execution_count": 873,
   "metadata": {
    "collapsed": false
   },
   "outputs": [],
   "source": [
    "source_embeddings = tf.get_variable('source_embedding_matrix',\n",
    "                            [source_vocab_size+1, embed_size])\n",
    "enc_inputs = tf.nn.embedding_lookup(source_embeddings, source_ids)"
   ]
  },
  {
   "cell_type": "code",
   "execution_count": 874,
   "metadata": {
    "collapsed": true
   },
   "outputs": [],
   "source": [
    "enc_fw_cell = tf.contrib.rnn.GRUCell(hidden_size)\n",
    "enc_bw_cell = tf.contrib.rnn.GRUCell(hidden_size)"
   ]
  },
  {
   "cell_type": "code",
   "execution_count": 875,
   "metadata": {
    "collapsed": false
   },
   "outputs": [],
   "source": [
    "enc_outputs, states = \\\n",
    "tf.nn.bidirectional_dynamic_rnn(cell_fw = enc_fw_cell, \n",
    "                                         cell_bw = enc_bw_cell,\n",
    "                                         inputs = enc_inputs,\n",
    "                                         sequence_length = source_seq_lens,\n",
    "                                         dtype = tf.float32)"
   ]
  },
  {
   "cell_type": "code",
   "execution_count": 876,
   "metadata": {
    "collapsed": true
   },
   "outputs": [],
   "source": [
    "concat_enc_outputs = tf.concat(enc_outputs, axis=2)"
   ]
  },
  {
   "cell_type": "code",
   "execution_count": 877,
   "metadata": {
    "collapsed": false
   },
   "outputs": [],
   "source": [
    "bw_enc_output1 = enc_outputs[-1][:,1,:]"
   ]
  },
  {
   "cell_type": "code",
   "execution_count": 878,
   "metadata": {
    "collapsed": true
   },
   "outputs": [],
   "source": [
    "U = tf.get_variable('U',[hidden_size,hidden_size])"
   ]
  },
  {
   "cell_type": "code",
   "execution_count": 879,
   "metadata": {
    "collapsed": true
   },
   "outputs": [],
   "source": [
    "decoder_state = tf.matmul(bw_enc_output1,U)"
   ]
  },
  {
   "cell_type": "code",
   "execution_count": 880,
   "metadata": {
    "collapsed": true
   },
   "outputs": [],
   "source": [
    "batch_size = tf.placeholder(tf.int32)"
   ]
  },
  {
   "cell_type": "code",
   "execution_count": 881,
   "metadata": {
    "collapsed": false
   },
   "outputs": [],
   "source": [
    "W = tf.get_variable('W',[1,2*hidden_size,align_size],dtype=tf.float32)\n",
    "W_rep = tf.tile(W,[batch_size,1,1])"
   ]
  },
  {
   "cell_type": "code",
   "execution_count": 882,
   "metadata": {
    "collapsed": false
   },
   "outputs": [],
   "source": [
    "X = tf.matmul(concat_enc_outputs,W_rep)"
   ]
  },
  {
   "cell_type": "code",
   "execution_count": 883,
   "metadata": {
    "collapsed": false
   },
   "outputs": [],
   "source": [
    "V = tf.get_variable('V',[hidden_size,align_size])"
   ]
  },
  {
   "cell_type": "code",
   "execution_count": 884,
   "metadata": {
    "collapsed": false
   },
   "outputs": [],
   "source": [
    "v = tf.get_variable('v',[1,align_size,1])"
   ]
  },
  {
   "cell_type": "code",
   "execution_count": 885,
   "metadata": {
    "collapsed": true
   },
   "outputs": [],
   "source": [
    "v_rep = tf.tile(v,[batch_size,1,1])"
   ]
  },
  {
   "cell_type": "code",
   "execution_count": 886,
   "metadata": {
    "collapsed": true
   },
   "outputs": [],
   "source": [
    "P = tf.get_variable('P',[hidden_size,target_vocab_size+2])\n",
    "b = tf.get_variable('b',[target_vocab_size+2])"
   ]
  },
  {
   "cell_type": "code",
   "execution_count": 887,
   "metadata": {
    "collapsed": false
   },
   "outputs": [],
   "source": [
    "target_embeddings = tf.get_variable('target_embedding_matrix',\n",
    "                            [target_vocab_size+2, embed_size])"
   ]
  },
  {
   "cell_type": "code",
   "execution_count": 888,
   "metadata": {
    "collapsed": false
   },
   "outputs": [],
   "source": [
    "with tf.variable_scope('RNN'):\n",
    "    decoder_cell = tf.contrib.rnn.GRUCell(hidden_size)"
   ]
  },
  {
   "cell_type": "code",
   "execution_count": 889,
   "metadata": {
    "collapsed": false
   },
   "outputs": [],
   "source": [
    "decoder_embed = tf.nn.embedding_lookup(target_embeddings, \n",
    "                                       tf.ones([batch_size],tf.int32))"
   ]
  },
  {
   "cell_type": "code",
   "execution_count": 890,
   "metadata": {
    "collapsed": true
   },
   "outputs": [],
   "source": [
    "decoder_output = tf.placeholder(tf.int32,[None,None])"
   ]
  },
  {
   "cell_type": "code",
   "execution_count": 891,
   "metadata": {
    "collapsed": true
   },
   "outputs": [],
   "source": [
    "decoder_length = 10"
   ]
  },
  {
   "cell_type": "code",
   "execution_count": 892,
   "metadata": {
    "collapsed": true
   },
   "outputs": [],
   "source": [
    "target_mask = tf.placeholder(dtype=tf.float32,shape=[None,None])"
   ]
  },
  {
   "cell_type": "code",
   "execution_count": 893,
   "metadata": {
    "collapsed": true
   },
   "outputs": [],
   "source": [
    "target_seq_lens = tf.placeholder(dtype=tf.int32,shape=[None])"
   ]
  },
  {
   "cell_type": "code",
   "execution_count": 894,
   "metadata": {
    "collapsed": true
   },
   "outputs": [],
   "source": [
    "total_loss = 0"
   ]
  },
  {
   "cell_type": "code",
   "execution_count": 895,
   "metadata": {
    "collapsed": false
   },
   "outputs": [],
   "source": [
    "for t in range(decoder_length):\n",
    "    with tf.variable_scope('RNN'):\n",
    "        logits = []\n",
    "        if t > 0:\n",
    "            tf.get_variable_scope().reuse_variables()\n",
    "        r_t = tf.matmul(decoder_state,V)\n",
    "        \n",
    "        tanh_input = X + tf.expand_dims(r_t,axis=1)\n",
    "        u_t = tf.matmul(tanh_input,v_rep)\n",
    "        u_t = tf.squeeze(u_t,axis=2)\n",
    "\n",
    "        exp_u_t = tf.exp(u_t)\n",
    "        softmax_denom = tf.reduce_sum(exp_u_t*source_mask,axis=1,keep_dims=True)\n",
    "        a_t = exp_u_t/softmax_denom\n",
    "        a_t = a_t*source_mask\n",
    "\n",
    "        a_expn = tf.expand_dims(a_t,axis=1)\n",
    "        c_t = tf.matmul(a_expn,concat_enc_outputs)\n",
    "        c_t = tf.squeeze(c_t,axis=1)\n",
    "\n",
    "        decoder_input = tf.concat([decoder_embed,c_t],\n",
    "                                  axis=1)\n",
    "        decoder_state,_ = decoder_cell(decoder_input,\n",
    "                                       decoder_state) \n",
    "\n",
    "        logit = tf.nn.xw_plus_b(decoder_state,P,b)\n",
    "        logits.append(tf.argmax(logit, 1))\n",
    "        onehot = tf.one_hot(decoder_output[:,t],\n",
    "                            depth=target_vocab_size+2)\n",
    "        \n",
    "        \n",
    "        cross_entropy = tf.nn.softmax_cross_entropy_with_logits(\n",
    "                        logits = logit,\n",
    "                        labels = onehot\n",
    "                    )\n",
    "        \n",
    "        xe_mask = tf.cast(tf.greater(decoder_output[:,t],0),tf.float32)\n",
    "        \n",
    "        cross_entropy = xe_mask*cross_entropy\n",
    "        \n",
    "        loss = tf.reduce_sum(cross_entropy)\n",
    "        \n",
    "        \n",
    "\n",
    "        total_loss += loss\n",
    "    \n",
    "avg_loss = total_loss / tf.reduce_sum(target_mask)\n",
    "train_op = tf.train.AdamOptimizer(1e-4).minimize(avg_loss)"
   ]
  },
  {
   "cell_type": "code",
   "execution_count": 896,
   "metadata": {
    "collapsed": true
   },
   "outputs": [],
   "source": [
    "num_examples = len(padded_inputs)"
   ]
  },
  {
   "cell_type": "code",
   "execution_count": 897,
   "metadata": {
    "collapsed": true
   },
   "outputs": [],
   "source": [
    "batch_size_ = 6"
   ]
  },
  {
   "cell_type": "code",
   "execution_count": 901,
   "metadata": {
    "collapsed": true
   },
   "outputs": [],
   "source": [
    "start = 0"
   ]
  },
  {
   "cell_type": "code",
   "execution_count": 902,
   "metadata": {
    "collapsed": true
   },
   "outputs": [],
   "source": [
    "import math"
   ]
  },
  {
   "cell_type": "code",
   "execution_count": 903,
   "metadata": {
    "collapsed": false
   },
   "outputs": [
    {
     "name": "stdout",
     "output_type": "stream",
     "text": [
      "[array([15, 97, 30, 15, 15, 15])] 4.62098\n",
      "[array([3, 3, 3, 3, 3, 3])] 4.62041\n",
      "[array([44, 44, 44, 44, 44, 44])] 4.64575\n",
      "[array([71, 94, 94, 71, 89, 94])] 4.62137\n",
      "[array([41])] 4.60123\n"
     ]
    }
   ],
   "source": [
    "for i in range(math.ceil(num_examples/batch_size_)):\n",
    "    start = i*batch_size_\n",
    "    end = start + batch_size_\n",
    "    with tf.Session() as sess:\n",
    "        init_op = tf.global_variables_initializer()\n",
    "        sess.run(init_op)\n",
    "        logits_,avg_loss_,_ = sess.run([logits,avg_loss,train_op],\n",
    "                            feed_dict={\n",
    "                                       batch_size:min(num_examples, end) - start,\n",
    "                                       source_mask:source_mask_array[start:end,:],\n",
    "                                       target_mask:target_mask_array[start:end,:],\n",
    "                                       source_ids:padded_inputs[start:end], \n",
    "                                       source_seq_lens:source_lens[start:end],\n",
    "                                       target_seq_lens:target_lens[start:end],\n",
    "                                       decoder_output:padded_outputs[start:end,:],\n",
    "                                      })\n",
    "    print(logits_,avg_loss_)"
   ]
  }
 ],
 "metadata": {
  "kernelspec": {
   "display_name": "Python 3",
   "language": "python",
   "name": "python3"
  },
  "language_info": {
   "codemirror_mode": {
    "name": "ipython",
    "version": 3
   },
   "file_extension": ".py",
   "mimetype": "text/x-python",
   "name": "python",
   "nbconvert_exporter": "python",
   "pygments_lexer": "ipython3",
   "version": "3.5.2"
  }
 },
 "nbformat": 4,
 "nbformat_minor": 0
}
